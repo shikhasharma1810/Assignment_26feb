{
 "cells": [
  {
   "cell_type": "code",
   "execution_count": null,
   "id": "64030323-0b12-42ff-bf94-65006178de26",
   "metadata": {},
   "outputs": [],
   "source": [
    "Consider the below code to answer further questions:"
   ]
  },
  {
   "cell_type": "code",
   "execution_count": 5,
   "id": "2939701d-5391-4f92-bfbf-0fa936345693",
   "metadata": {},
   "outputs": [],
   "source": [
    "import numpy as np\n",
    "list_ = [ '1' , '2' , '3' , '4' , '5' ]\n",
    "array_list = np.array(object = list_)"
   ]
  },
  {
   "cell_type": "code",
   "execution_count": 6,
   "id": "941fdd0b-f051-4ce1-853e-0128da6184ae",
   "metadata": {},
   "outputs": [
    {
     "data": {
      "text/plain": [
       "array(['1', '2', '3', '4', '5'], dtype='<U1')"
      ]
     },
     "execution_count": 6,
     "metadata": {},
     "output_type": "execute_result"
    }
   ],
   "source": [
    "array_list"
   ]
  },
  {
   "cell_type": "code",
   "execution_count": null,
   "id": "88535b83-444d-4787-9806-fa1c1d661cbf",
   "metadata": {},
   "outputs": [],
   "source": [
    "Q1. Is there any difference in the data type of variables list_ and array_list? If there is then write a code\n",
    "to print the data types of both the variables.\n",
    "\n",
    "Yes, there is a difference in the data type of variable list and arraylist in pandas.\n",
    "\n",
    "List: Lists are mutable, meaning they can be changed. They can store elements of different data types. \n",
    "Lists are implemented as dynamic arrays, which means that they can grow and shrink as needed.\n",
    "\n",
    "ArrayList: ArrayLists are also mutable, but they can only store elements of the same data type. \n",
    "ArrayLists are implemented as fixed-size arrays, which means that they cannot grow or shrink. \n",
    "If we need to add more elements to an ArrayList, we must create a new ArrayList with a larger size.\n",
    "\n",
    "In pandas, lists and ArrayLists are both used to store data. However, lists are more flexible because \n",
    "they can store elements of different data types and they can grow and shrink as needed. ArrayLists are \n",
    "less flexible, but they can be more efficient for storing large amounts of data of the same data type."
   ]
  },
  {
   "cell_type": "code",
   "execution_count": 12,
   "id": "c09cd3e8-ae07-480a-84de-189597cff482",
   "metadata": {},
   "outputs": [
    {
     "data": {
      "text/plain": [
       "numpy.ndarray"
      ]
     },
     "execution_count": 12,
     "metadata": {},
     "output_type": "execute_result"
    }
   ],
   "source": [
    "type(array_list)"
   ]
  },
  {
   "cell_type": "code",
   "execution_count": 11,
   "id": "06929c96-336f-4cd5-8e26-1543d1bad0cb",
   "metadata": {},
   "outputs": [
    {
     "data": {
      "text/plain": [
       "list"
      ]
     },
     "execution_count": 11,
     "metadata": {},
     "output_type": "execute_result"
    }
   ],
   "source": [
    "type(list_)"
   ]
  },
  {
   "cell_type": "code",
   "execution_count": null,
   "id": "49023dac-18fa-4865-982d-ac292f14c1ad",
   "metadata": {},
   "outputs": [],
   "source": [
    "Q2. Write a code to print the data type of each and every element of both the variables list_ and\n",
    "array_list."
   ]
  },
  {
   "cell_type": "code",
   "execution_count": 25,
   "id": "ee59f29d-b2aa-46fc-8f5e-b38df8dbea66",
   "metadata": {},
   "outputs": [
    {
     "name": "stdout",
     "output_type": "stream",
     "text": [
      "Data type of each and every element of the variable list:-\n",
      "1 <class 'str'>\n",
      "2 <class 'str'>\n",
      "3 <class 'str'>\n",
      "4 <class 'str'>\n",
      "5 <class 'str'>\n"
     ]
    }
   ],
   "source": [
    "print('Data type of each and every element of the variable list:-')\n",
    "for k in list_:\n",
    "    print(k, type(k))"
   ]
  },
  {
   "cell_type": "code",
   "execution_count": 26,
   "id": "93a0e445-dd96-4231-abf4-bc10e20b514a",
   "metadata": {},
   "outputs": [
    {
     "name": "stdout",
     "output_type": "stream",
     "text": [
      "Data type of each and every element of the variable array list:-\n",
      "1 <class 'numpy.int64'>\n",
      "2 <class 'numpy.int64'>\n",
      "3 <class 'numpy.int64'>\n",
      "4 <class 'numpy.int64'>\n",
      "5 <class 'numpy.int64'>\n"
     ]
    }
   ],
   "source": [
    "print('Data type of each and every element of the variable array list:-')\n",
    "for i in array_list:\n",
    "    print(i, type(i))"
   ]
  },
  {
   "cell_type": "code",
   "execution_count": null,
   "id": "899c09d3-d0e4-4584-8ff3-da89b5c5dac3",
   "metadata": {},
   "outputs": [],
   "source": [
    "Q3. Considering the following changes in the variable, array_list:\n",
    "array_list = np.array(object = list_, dtype = int)\n",
    "Will there be any difference in the data type of the elements present in both the variables, list_ and\n",
    "array_list? If so then print the data types of each and every element present in both the variables, list_\n",
    "and array_list."
   ]
  },
  {
   "cell_type": "code",
   "execution_count": null,
   "id": "32094314-dd7e-43a7-87df-6fbfa97e34ad",
   "metadata": {},
   "outputs": [],
   "source": [
    "Yes, there is a difference in the data type of the elements present in both the variables, list_ and\n",
    "array_list as now the data type of the elements in array_list is of integer and in list_, data type is string."
   ]
  },
  {
   "cell_type": "code",
   "execution_count": 19,
   "id": "d28678c2-ef86-47c2-b5ee-45b28ab84163",
   "metadata": {},
   "outputs": [],
   "source": [
    "array_list = np.array(object = list_, dtype = int)"
   ]
  },
  {
   "cell_type": "code",
   "execution_count": 20,
   "id": "eabd76a9-2832-4d2d-a56c-60706130c7b5",
   "metadata": {},
   "outputs": [
    {
     "data": {
      "text/plain": [
       "array([1, 2, 3, 4, 5])"
      ]
     },
     "execution_count": 20,
     "metadata": {},
     "output_type": "execute_result"
    }
   ],
   "source": [
    "array_list"
   ]
  },
  {
   "cell_type": "code",
   "execution_count": 23,
   "id": "0b6e34e6-dc34-489f-847d-de7311de96d0",
   "metadata": {},
   "outputs": [
    {
     "name": "stdout",
     "output_type": "stream",
     "text": [
      "Data type of each and every element of the variable list:-\n",
      "1 <class 'str'>\n",
      "2 <class 'str'>\n",
      "3 <class 'str'>\n",
      "4 <class 'str'>\n",
      "5 <class 'str'>\n"
     ]
    }
   ],
   "source": [
    "print('Data type of each and every element of the variable list:-')\n",
    "for k in list_:\n",
    "    print(k, type(k))"
   ]
  },
  {
   "cell_type": "code",
   "execution_count": 24,
   "id": "61b95841-aaeb-43c9-884c-ad8e6b9db1c3",
   "metadata": {},
   "outputs": [
    {
     "name": "stdout",
     "output_type": "stream",
     "text": [
      "Data type of each and every element of the variable array list:-\n",
      "1 <class 'numpy.int64'>\n",
      "2 <class 'numpy.int64'>\n",
      "3 <class 'numpy.int64'>\n",
      "4 <class 'numpy.int64'>\n",
      "5 <class 'numpy.int64'>\n"
     ]
    }
   ],
   "source": [
    "print('Data type of each and every element of the variable array list:-')\n",
    "for i in array_list:\n",
    "    print(i, type(i))"
   ]
  },
  {
   "cell_type": "code",
   "execution_count": null,
   "id": "4f4ba9d2-ec83-439e-a3f7-6b268a972eb2",
   "metadata": {},
   "outputs": [],
   "source": [
    "Consider the below code to answer further questions:"
   ]
  },
  {
   "cell_type": "code",
   "execution_count": 27,
   "id": "d16eac8c-7780-457b-813a-f4d5f9de0da0",
   "metadata": {},
   "outputs": [],
   "source": [
    "import numpy as np\n",
    "num_list = [ [ 1 , 2 , 3 ] , [ 4 , 5 , 6 ] ]\n",
    "num_array = np.array(object = num_list)"
   ]
  },
  {
   "cell_type": "code",
   "execution_count": 28,
   "id": "cb10cfe7-9e15-450c-87fc-8c7999da3dd0",
   "metadata": {},
   "outputs": [
    {
     "data": {
      "text/plain": [
       "[[1, 2, 3], [4, 5, 6]]"
      ]
     },
     "execution_count": 28,
     "metadata": {},
     "output_type": "execute_result"
    }
   ],
   "source": [
    "num_list"
   ]
  },
  {
   "cell_type": "code",
   "execution_count": 29,
   "id": "e7f6e08a-4bb5-4d9f-b28c-d95e59cbc586",
   "metadata": {},
   "outputs": [
    {
     "data": {
      "text/plain": [
       "array([[1, 2, 3],\n",
       "       [4, 5, 6]])"
      ]
     },
     "execution_count": 29,
     "metadata": {},
     "output_type": "execute_result"
    }
   ],
   "source": [
    "num_array"
   ]
  },
  {
   "cell_type": "code",
   "execution_count": null,
   "id": "7c48bc11-476a-4cbd-b85a-6af6dffd24ea",
   "metadata": {},
   "outputs": [],
   "source": [
    "Q4. Write a code to find the following characteristics of variable, num_array:\n",
    "(i) shape is 2 rows and 3 columns\n",
    "(ii) size is 6 as 2*3 (no. of rows multiplied with no. of columns)"
   ]
  },
  {
   "cell_type": "code",
   "execution_count": 30,
   "id": "6ee6b4e1-d13a-4634-80d4-9f868865bccc",
   "metadata": {},
   "outputs": [
    {
     "data": {
      "text/plain": [
       "(2, 3)"
      ]
     },
     "execution_count": 30,
     "metadata": {},
     "output_type": "execute_result"
    }
   ],
   "source": [
    "num_array.shape"
   ]
  },
  {
   "cell_type": "code",
   "execution_count": 31,
   "id": "22d6ae10-64d3-4b6f-9e8b-8b40a685b3c3",
   "metadata": {},
   "outputs": [
    {
     "data": {
      "text/plain": [
       "6"
      ]
     },
     "execution_count": 31,
     "metadata": {},
     "output_type": "execute_result"
    }
   ],
   "source": [
    "num_array.size"
   ]
  },
  {
   "cell_type": "code",
   "execution_count": null,
   "id": "5b76baeb-80fb-4e09-8106-fa70865b5f79",
   "metadata": {},
   "outputs": [],
   "source": [
    "Q5. Write a code to create numpy array of 3*3 matrix containing zeros only, using a numpy array\n",
    "creation function.\n",
    "[Hint: The size of the array will be 9 and the shape will be (3,3).]"
   ]
  },
  {
   "cell_type": "code",
   "execution_count": 41,
   "id": "fe6ef0ee-bec4-4bb2-b17e-1f2b2e5bc5e3",
   "metadata": {},
   "outputs": [],
   "source": [
    "d = np.random.randint(0,1,(3,3))"
   ]
  },
  {
   "cell_type": "code",
   "execution_count": 42,
   "id": "cb04a428-d267-48d8-a48e-3e7f1bb5bcba",
   "metadata": {},
   "outputs": [
    {
     "data": {
      "text/plain": [
       "array([[0, 0, 0],\n",
       "       [0, 0, 0],\n",
       "       [0, 0, 0]])"
      ]
     },
     "execution_count": 42,
     "metadata": {},
     "output_type": "execute_result"
    }
   ],
   "source": [
    "d"
   ]
  },
  {
   "cell_type": "code",
   "execution_count": null,
   "id": "e8ff14f0-abd2-4ad5-b210-ecf5211a3fc9",
   "metadata": {},
   "outputs": [],
   "source": [
    "Q6. Create an identity matrix of shape (5,5) using numpy functions?\n",
    "[Hint: An identity matrix is a matrix containing 1 diagonally and other elements will be 0.]"
   ]
  },
  {
   "cell_type": "code",
   "execution_count": 45,
   "id": "b4156db8-1480-44f8-9fc7-3bfb29550bb0",
   "metadata": {},
   "outputs": [],
   "source": [
    "d1 = np.identity(5)"
   ]
  },
  {
   "cell_type": "code",
   "execution_count": 46,
   "id": "ebafa7c3-e5d5-4281-bfcf-6fcdfe5d7406",
   "metadata": {},
   "outputs": [
    {
     "data": {
      "text/plain": [
       "array([[1., 0., 0., 0., 0.],\n",
       "       [0., 1., 0., 0., 0.],\n",
       "       [0., 0., 1., 0., 0.],\n",
       "       [0., 0., 0., 1., 0.],\n",
       "       [0., 0., 0., 0., 1.]])"
      ]
     },
     "execution_count": 46,
     "metadata": {},
     "output_type": "execute_result"
    }
   ],
   "source": [
    "d1"
   ]
  }
 ],
 "metadata": {
  "kernelspec": {
   "display_name": "Python 3 (ipykernel)",
   "language": "python",
   "name": "python3"
  },
  "language_info": {
   "codemirror_mode": {
    "name": "ipython",
    "version": 3
   },
   "file_extension": ".py",
   "mimetype": "text/x-python",
   "name": "python",
   "nbconvert_exporter": "python",
   "pygments_lexer": "ipython3",
   "version": "3.10.8"
  }
 },
 "nbformat": 4,
 "nbformat_minor": 5
}
